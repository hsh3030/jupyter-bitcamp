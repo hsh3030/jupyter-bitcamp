{
 "cells": [
  {
   "cell_type": "code",
   "execution_count": 2,
   "metadata": {},
   "outputs": [],
   "source": [
    "f = open('project.txt', 'r', encoding='utf-8')\n",
    "all_chat = []\n",
    "for line in f:\n",
    "    all_chat.append(line)\n",
    "f.close()"
   ]
  },
  {
   "cell_type": "code",
   "execution_count": 3,
   "metadata": {},
   "outputs": [
    {
     "data": {
      "text/plain": [
       "1083"
      ]
     },
     "execution_count": 3,
     "metadata": {},
     "output_type": "execute_result"
    }
   ],
   "source": [
    "len(all_chat)"
   ]
  },
  {
   "cell_type": "code",
   "execution_count": 4,
   "metadata": {},
   "outputs": [
    {
     "data": {
      "text/plain": [
       "['만두!!, 김진성, 김태정, 코광일, 빽가, ... 님과 카카오톡 대화\\n',\n",
       " '저장한 날짜 : 2019-09-30 11:50:09\\n',\n",
       " '\\n',\n",
       " '--------------- 2019년 8월 17일 토요일 ---------------\\n',\n",
       " '[김태정] [오후 5:46] 사진\\n',\n",
       " '[고릴] [오후 5:52] 뭐야 이건\\n',\n",
       " '[에로박] [오후 5:53] 싸우디깝\\n',\n",
       " '[김태정] [오후 6:01] 여기 맛이 확실히 있는듯\\n',\n",
       " '[코광일] [오후 6:06] 쌀국수?ㅋ\\n',\n",
       " '[김태정] [오후 6:09] ㅇㅇ청화병원앞\\n']"
      ]
     },
     "execution_count": 4,
     "metadata": {},
     "output_type": "execute_result"
    }
   ],
   "source": [
    "all_chat[:10]"
   ]
  },
  {
   "cell_type": "code",
   "execution_count": 5,
   "metadata": {},
   "outputs": [],
   "source": [
    "name = []\n",
    "time = []\n",
    "text = []\n",
    "err = []\n",
    "for chat in all_chat:\n",
    "    temp = chat.split('] ')\n",
    "    if len(temp) == 3:\n",
    "        name.append(temp[0].replace(\"[\", \"\"))\n",
    "        text.append(temp[2])\n",
    "    else:\n",
    "        err.append(chat)"
   ]
  },
  {
   "cell_type": "code",
   "execution_count": 6,
   "metadata": {},
   "outputs": [
    {
     "data": {
      "text/plain": [
       "99"
      ]
     },
     "execution_count": 6,
     "metadata": {},
     "output_type": "execute_result"
    }
   ],
   "source": [
    "len(err)"
   ]
  },
  {
   "cell_type": "code",
   "execution_count": 7,
   "metadata": {},
   "outputs": [
    {
     "data": {
      "text/plain": [
       "984"
      ]
     },
     "execution_count": 7,
     "metadata": {},
     "output_type": "execute_result"
    }
   ],
   "source": [
    "len(text)"
   ]
  },
  {
   "cell_type": "code",
   "execution_count": 8,
   "metadata": {},
   "outputs": [
    {
     "data": {
      "text/plain": [
       "['사진\\n',\n",
       " '뭐야 이건\\n',\n",
       " '싸우디깝\\n',\n",
       " '여기 맛이 확실히 있는듯\\n',\n",
       " '쌀국수?ㅋ\\n',\n",
       " 'ㅇㅇ청화병원앞\\n',\n",
       " '수요미식회 나온곳\\n',\n",
       " '이야혼자간겨?\\n',\n",
       " '그지요 가까운데 가보쇼들\\n',\n",
       " '퇴쿤퇴쿤\\n']"
      ]
     },
     "execution_count": 8,
     "metadata": {},
     "output_type": "execute_result"
    }
   ],
   "source": [
    "text[:10]"
   ]
  },
  {
   "cell_type": "code",
   "execution_count": 9,
   "metadata": {},
   "outputs": [],
   "source": [
    "# 카운팅 하기\n",
    "from collections import Counter"
   ]
  },
  {
   "cell_type": "code",
   "execution_count": 10,
   "metadata": {},
   "outputs": [],
   "source": [
    "temp = \" \".join(text).split(\" \")"
   ]
  },
  {
   "cell_type": "code",
   "execution_count": 13,
   "metadata": {},
   "outputs": [],
   "source": [
    "words = Counter(temp).most_common(2000000)"
   ]
  },
  {
   "cell_type": "code",
   "execution_count": 14,
   "metadata": {},
   "outputs": [
    {
     "data": {
      "text/plain": [
       "1999"
      ]
     },
     "execution_count": 14,
     "metadata": {},
     "output_type": "execute_result"
    }
   ],
   "source": [
    "len(words)"
   ]
  },
  {
   "cell_type": "code",
   "execution_count": 15,
   "metadata": {},
   "outputs": [
    {
     "data": {
      "text/plain": [
       "[('ㅋ\\n', 43),\n",
       " ('운세\\n', 28),\n",
       " ('사진\\n', 22),\n",
       " ('ㅋㅋ\\n', 21),\n",
       " ('이마', 16),\n",
       " ('ㅋㅋㅋㅋㅋ\\n', 16),\n",
       " ('왜', 14),\n",
       " ('1985년생', 14),\n",
       " ('1986년생', 14),\n",
       " ('', 13)]"
      ]
     },
     "execution_count": 15,
     "metadata": {},
     "output_type": "execute_result"
    }
   ],
   "source": [
    "words[:10]"
   ]
  },
  {
   "cell_type": "code",
   "execution_count": 18,
   "metadata": {},
   "outputs": [],
   "source": [
    "word_dict = dict()\n",
    "for word in words:\n",
    "    word_dict[word[0]] = word[1]"
   ]
  },
  {
   "cell_type": "code",
   "execution_count": 26,
   "metadata": {},
   "outputs": [
    {
     "data": {
      "text/plain": [
       "14"
      ]
     },
     "execution_count": 26,
     "metadata": {},
     "output_type": "execute_result"
    }
   ],
   "source": [
    "word_dict['왜']"
   ]
  },
  {
   "cell_type": "code",
   "execution_count": 28,
   "metadata": {},
   "outputs": [
    {
     "data": {
      "text/plain": [
       "<wordcloud.wordcloud.WordCloud at 0x21014f02ac8>"
      ]
     },
     "execution_count": 28,
     "metadata": {},
     "output_type": "execute_result"
    }
   ],
   "source": [
    "import numpy as np\n",
    "import random\n",
    "from PIL import Image\n",
    "from wordcloud import WordCloud, STOPWORDS\n",
    "from palettable.colorbrewer.qualitative import Dark2_8\n",
    "\n",
    "def color_func(word, font_size, position, orientation, random_state=None, **kwargs):\n",
    "    return tuple(Dark2_8.colors[random.randint(0,7)])\n",
    "font = \"210 chungchun sidae R\"\n",
    "font_path = \"%s.ttf\" % font\n",
    "\n",
    "icon = \"MRC\"\n",
    "icon_path = \"%s.png\" % icon\n",
    "\n",
    "icon = Image.open(icon_path).convert(\"RGBA\")\n",
    "mask = Image.new(\"RGB\", icon.size, (255,255,255))\n",
    "mask.paste(icon,icon)\n",
    "mask = np.array(mask)\n",
    "\n",
    "wc = WordCloud(font_path=font_path, background_color=\"white\", max_words=2000, mask=mask,\n",
    "               max_font_size=300, random_state=42)\n",
    "               \n",
    "# generate word cloud\n",
    "wc.generate_from_frequencies(word_dict)\n",
    "wc.recolor(color_func=color_func, random_state=3)\n",
    "wc.to_file(\"out_word_cloud.png\")"
   ]
  },
  {
   "cell_type": "code",
   "execution_count": null,
   "metadata": {},
   "outputs": [],
   "source": []
  }
 ],
 "metadata": {
  "kernelspec": {
   "display_name": "Python 3",
   "language": "python",
   "name": "python3"
  },
  "language_info": {
   "codemirror_mode": {
    "name": "ipython",
    "version": 3
   },
   "file_extension": ".py",
   "mimetype": "text/x-python",
   "name": "python",
   "nbconvert_exporter": "python",
   "pygments_lexer": "ipython3",
   "version": "3.7.3"
  }
 },
 "nbformat": 4,
 "nbformat_minor": 2
}
