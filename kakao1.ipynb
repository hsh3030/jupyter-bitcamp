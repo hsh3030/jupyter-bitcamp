{
 "cells": [
  {
   "cell_type": "markdown",
   "metadata": {},
   "source": [
    "# Data Import"
   ]
  },
  {
   "cell_type": "code",
   "execution_count": 58,
   "metadata": {},
   "outputs": [
    {
     "data": {
      "text/plain": [
       "['만두!!, 김진성, 김태정, 코광일, 빽가, ... 님과 카카오톡 대화',\n",
       " '저장한 날짜 : 2019-09-30 11:50:09',\n",
       " '',\n",
       " '--------------- 2019년 8월 17일 토요일 ---------------',\n",
       " '[김태정] [오후 5:46] 사진',\n",
       " '[고릴] [오후 5:52] 뭐야 이건',\n",
       " '[에로박] [오후 5:53] 싸우디깝',\n",
       " '[김태정] [오후 6:01] 여기 맛이 확실히 있는듯',\n",
       " '[코광일] [오후 6:06] 쌀국수?ㅋ',\n",
       " '[김태정] [오후 6:09] ㅇㅇ청화병원앞']"
      ]
     },
     "execution_count": 58,
     "metadata": {},
     "output_type": "execute_result"
    }
   ],
   "source": [
    "f = open(\"project.txt\", \"r\", encoding='utf-8')\n",
    "all_chat = []\n",
    "for line in f:\n",
    "    all_chat.append(line.replace(\"\\n\",\"\")) # 앞에 있는 ?을 ?으로 바꾼다  \n",
    "f.close()\n",
    "\n",
    "all_chat[:10]"
   ]
  },
  {
   "cell_type": "markdown",
   "metadata": {},
   "source": [
    "# Data pre-processing"
   ]
  },
  {
   "cell_type": "code",
   "execution_count": 59,
   "metadata": {},
   "outputs": [],
   "source": [
    "err = []\n",
    "\n",
    "name = []\n",
    "for line in all_chat:\n",
    "    temp = line.split(\"] \")\n",
    "    if len(temp) == 3:\n",
    "#         print(temp[0].replace('[',''))\n",
    "        name.append(temp[0][1:])\n",
    "    else:\n",
    "        err.append(line)"
   ]
  },
  {
   "cell_type": "code",
   "execution_count": 60,
   "metadata": {},
   "outputs": [
    {
     "data": {
      "text/plain": [
       "984"
      ]
     },
     "execution_count": 60,
     "metadata": {},
     "output_type": "execute_result"
    }
   ],
   "source": [
    "len(name)"
   ]
  },
  {
   "cell_type": "code",
   "execution_count": 61,
   "metadata": {},
   "outputs": [
    {
     "data": {
      "text/plain": [
       "['김태정',\n",
       " '고릴',\n",
       " '에로박',\n",
       " '김태정',\n",
       " '코광일',\n",
       " '김태정',\n",
       " '김태정',\n",
       " '빽가',\n",
       " '김태정',\n",
       " '한진수',\n",
       " '김진성',\n",
       " '고릴',\n",
       " '고릴',\n",
       " 'Seung Ho',\n",
       " 'Seung Ho',\n",
       " '한진수',\n",
       " '고릴',\n",
       " '김태정',\n",
       " '김진성',\n",
       " '김진성',\n",
       " '고릴',\n",
       " '코광일',\n",
       " '고릴',\n",
       " '김진성',\n",
       " 'Seung Ho',\n",
       " '빽가',\n",
       " '김진성',\n",
       " '김진성',\n",
       " 'Seung Ho',\n",
       " 'Seung Ho',\n",
       " '코광일',\n",
       " '코광일',\n",
       " '김진성',\n",
       " '김진성',\n",
       " 'Seung Ho',\n",
       " '김태정',\n",
       " '김태정',\n",
       " '코광일',\n",
       " '코광일',\n",
       " '김진성',\n",
       " '김태정',\n",
       " '김진성',\n",
       " '김태정',\n",
       " '김진성',\n",
       " '김태정',\n",
       " '코광일',\n",
       " '코광일',\n",
       " '김진성',\n",
       " '빽가',\n",
       " '빽가']"
      ]
     },
     "execution_count": 61,
     "metadata": {},
     "output_type": "execute_result"
    }
   ],
   "source": [
    "name[:50]"
   ]
  },
  {
   "cell_type": "code",
   "execution_count": 62,
   "metadata": {},
   "outputs": [],
   "source": [
    "from collections import Counter"
   ]
  },
  {
   "cell_type": "code",
   "execution_count": 63,
   "metadata": {},
   "outputs": [],
   "source": [
    "n, c = zip(*Counter(name).most_common(100))"
   ]
  },
  {
   "cell_type": "code",
   "execution_count": 64,
   "metadata": {},
   "outputs": [
    {
     "data": {
      "text/plain": [
       "('한진수', '고릴', '코광일', '김태정', 'Seung Ho', '빽가', '김진성', '에로박', '만두!!')"
      ]
     },
     "execution_count": 64,
     "metadata": {},
     "output_type": "execute_result"
    }
   ],
   "source": [
    "n[:10]"
   ]
  },
  {
   "cell_type": "code",
   "execution_count": 65,
   "metadata": {},
   "outputs": [
    {
     "data": {
      "text/plain": [
       "(247, 209, 183, 135, 93, 70, 32, 11, 4)"
      ]
     },
     "execution_count": 65,
     "metadata": {},
     "output_type": "execute_result"
    }
   ],
   "source": [
    "c[:10]"
   ]
  },
  {
   "cell_type": "code",
   "execution_count": 66,
   "metadata": {},
   "outputs": [],
   "source": [
    "import matplotlib.pyplot as plt"
   ]
  },
  {
   "cell_type": "code",
   "execution_count": 67,
   "metadata": {},
   "outputs": [],
   "source": [
    "import matplotlib.font_manager"
   ]
  },
  {
   "cell_type": "code",
   "execution_count": 68,
   "metadata": {},
   "outputs": [],
   "source": [
    "?matplotlib.font_manager.FontProperties"
   ]
  },
  {
   "cell_type": "code",
   "execution_count": 69,
   "metadata": {},
   "outputs": [
    {
     "name": "stderr",
     "output_type": "stream",
     "text": [
      "'pwd'은(는) 내부 또는 외부 명령, 실행할 수 있는 프로그램, 또는\n",
      "배치 파일이 아닙니다.\n"
     ]
    }
   ],
   "source": [
    "!pwd"
   ]
  },
  {
   "cell_type": "code",
   "execution_count": 70,
   "metadata": {},
   "outputs": [],
   "source": [
    "fprop = matplotlib.font_manager.FontProperties(fname = 'NanumBarunGothic.ttf', size = 10)"
   ]
  },
  {
   "cell_type": "code",
   "execution_count": 71,
   "metadata": {},
   "outputs": [
    {
     "data": {
      "image/png": "[encoded data removed]",
      "text/plain": [
       "<Figure size 432x288 with 1 Axes>"
      ]
     },
     "metadata": {
      "needs_background": "light"
     },
     "output_type": "display_data"
    }
   ],
   "source": [
    "plt.plot(c)\n",
    "plt.show()"
   ]
  },
  {
   "cell_type": "code",
   "execution_count": 76,
   "metadata": {},
   "outputs": [
    {
     "data": {
      "image/png": "[encoded data removed]",
      "text/plain": [
       "<Figure size 432x288 with 1 Axes>"
      ]
     },
     "metadata": {
      "needs_background": "light"
     },
     "output_type": "display_data"
    }
   ],
   "source": [
    "import numpy as np\n",
    "plt.figure(figsize=(6,4)) # 도화지 사이즈\n",
    "plt.title('카카오톡 채팅수',fontproperties = fprop, fontsize = 20)\n",
    "y = c[:10]\n",
    "x = n[:10]\n",
    "total = sum(c)\n",
    "plt.barh(-np.arange(len(x)),y,color = '#FFA533')\n",
    "\n",
    "plt.yticks(-np.arange(len(x)), x, fontproperties = fprop, fontsize = 14)\n",
    "\n",
    "plt.xlabel('카카오톡 챗 수', fontproperties = fprop, fontsize = 14)\n",
    "# plt.ylabel('이름', fontproperties = fprop, fontsize = 14)\n",
    "\n",
    "plt.show()"
   ]
  },
  {
   "cell_type": "code",
   "execution_count": 80,
   "metadata": {},
   "outputs": [
    {
     "data": {
      "image/png": "[encoded data removed]",
      "text/plain": [
       "<Figure size 432x288 with 1 Axes>"
      ]
     },
     "metadata": {
      "needs_background": "light"
     },
     "output_type": "display_data"
    }
   ],
   "source": [
    "import numpy as np\n",
    "plt.figure(figsize=(6,4)) # 도화지 사이즈\n",
    "plt.title('카카오톡 지분율',fontproperties = fprop, fontsize = 20)\n",
    "y = c[:10]\n",
    "x = n[:10]\n",
    "total = sum(c)\n",
    "plt.barh(-np.arange(len(x)),np.array(y)/total,color = '#FFA533')\n",
    "\n",
    "plt.yticks(-np.arange(len(x)), x, fontproperties = fprop, fontsize = 14)\n",
    "\n",
    "plt.xlabel('지분율', fontproperties = fprop, fontsize = 14)\n",
    "# plt.ylabel('이름', fontproperties = fprop, fontsize = 14)\n",
    "\n",
    "plt.show()"
   ]
  },
  {
   "cell_type": "code",
   "execution_count": null,
   "metadata": {},
   "outputs": [],
   "source": []
  }
 ],
 "metadata": {
  "kernelspec": {
   "display_name": "Python 3",
   "language": "python",
   "name": "python3"
  },
  "language_info": {
   "codemirror_mode": {
    "name": "ipython",
    "version": 3
   },
   "file_extension": ".py",
   "mimetype": "text/x-python",
   "name": "python",
   "nbconvert_exporter": "python",
   "pygments_lexer": "ipython3",
   "version": "3.7.3"
  }
 },
 "nbformat": 4,
 "nbformat_minor": 2
}
